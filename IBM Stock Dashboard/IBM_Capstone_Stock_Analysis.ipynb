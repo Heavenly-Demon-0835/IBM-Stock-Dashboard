{
 "cells": [
  {
   "cell_type": "markdown",
   "metadata": {},
   "source": [
    "# IBM Data Science Capstone Project\n",
    "\n",
    "## Final Assignment: Stock Price and Revenue Analysis for Tesla and GameStop"
   ]
  },
  {
   "cell_type": "markdown",
   "metadata": {},
   "source": "### Run this cell first to install needed libraries"
  },
  {
   "cell_type": "code",
   "metadata": {
    "ExecuteTime": {
     "end_time": "2025-05-13T11:55:11.563977Z",
     "start_time": "2025-05-13T11:55:09.751661Z"
    }
   },
   "source": "!pip install yfinance requests beautifulsoup4 lxml matplotlib\n",
   "outputs": [
    {
     "name": "stdout",
     "output_type": "stream",
     "text": [
      "Requirement already satisfied: yfinance in c:\\users\\jayda\\miniconda3\\lib\\site-packages (0.2.60)\n",
      "Requirement already satisfied: requests in c:\\users\\jayda\\miniconda3\\lib\\site-packages (2.32.3)\n",
      "Requirement already satisfied: beautifulsoup4 in c:\\users\\jayda\\miniconda3\\lib\\site-packages (4.13.3)\n",
      "Requirement already satisfied: lxml in c:\\users\\jayda\\miniconda3\\lib\\site-packages (5.4.0)\n",
      "Requirement already satisfied: matplotlib in c:\\users\\jayda\\miniconda3\\lib\\site-packages (3.10.1)\n",
      "Requirement already satisfied: pandas>=1.3.0 in c:\\users\\jayda\\miniconda3\\lib\\site-packages (from yfinance) (2.2.3)\n",
      "Requirement already satisfied: numpy>=1.16.5 in c:\\users\\jayda\\miniconda3\\lib\\site-packages (from yfinance) (2.2.3)\n",
      "Requirement already satisfied: multitasking>=0.0.7 in c:\\users\\jayda\\miniconda3\\lib\\site-packages (from yfinance) (0.0.11)\n",
      "Requirement already satisfied: platformdirs>=2.0.0 in c:\\users\\jayda\\miniconda3\\lib\\site-packages (from yfinance) (3.10.0)\n",
      "Requirement already satisfied: pytz>=2022.5 in c:\\users\\jayda\\miniconda3\\lib\\site-packages (from yfinance) (2025.1)\n",
      "Requirement already satisfied: frozendict>=2.3.4 in c:\\users\\jayda\\miniconda3\\lib\\site-packages (from yfinance) (2.4.2)\n",
      "Requirement already satisfied: peewee>=3.16.2 in c:\\users\\jayda\\miniconda3\\lib\\site-packages (from yfinance) (3.17.9)\n",
      "Requirement already satisfied: curl_cffi>=0.7 in c:\\users\\jayda\\miniconda3\\lib\\site-packages (from yfinance) (0.10.0)\n",
      "Requirement already satisfied: protobuf>=3.19.0 in c:\\users\\jayda\\miniconda3\\lib\\site-packages (from yfinance) (6.30.2)\n",
      "Requirement already satisfied: websockets>=13.0 in c:\\users\\jayda\\miniconda3\\lib\\site-packages (from yfinance) (15.0.1)\n",
      "Requirement already satisfied: charset-normalizer<4,>=2 in c:\\users\\jayda\\miniconda3\\lib\\site-packages (from requests) (3.3.2)\n",
      "Requirement already satisfied: idna<4,>=2.5 in c:\\users\\jayda\\miniconda3\\lib\\site-packages (from requests) (3.7)\n",
      "Requirement already satisfied: urllib3<3,>=1.21.1 in c:\\users\\jayda\\miniconda3\\lib\\site-packages (from requests) (2.2.2)\n",
      "Requirement already satisfied: certifi>=2017.4.17 in c:\\users\\jayda\\miniconda3\\lib\\site-packages (from requests) (2024.7.4)\n",
      "Requirement already satisfied: soupsieve>1.2 in c:\\users\\jayda\\miniconda3\\lib\\site-packages (from beautifulsoup4) (2.6)\n",
      "Requirement already satisfied: typing-extensions>=4.0.0 in c:\\users\\jayda\\miniconda3\\lib\\site-packages (from beautifulsoup4) (4.12.2)\n",
      "Requirement already satisfied: contourpy>=1.0.1 in c:\\users\\jayda\\miniconda3\\lib\\site-packages (from matplotlib) (1.3.1)\n",
      "Requirement already satisfied: cycler>=0.10 in c:\\users\\jayda\\miniconda3\\lib\\site-packages (from matplotlib) (0.12.1)\n",
      "Requirement already satisfied: fonttools>=4.22.0 in c:\\users\\jayda\\miniconda3\\lib\\site-packages (from matplotlib) (4.56.0)\n",
      "Requirement already satisfied: kiwisolver>=1.3.1 in c:\\users\\jayda\\miniconda3\\lib\\site-packages (from matplotlib) (1.4.8)\n",
      "Requirement already satisfied: packaging>=20.0 in c:\\users\\jayda\\miniconda3\\lib\\site-packages (from matplotlib) (24.1)\n",
      "Requirement already satisfied: pillow>=8 in c:\\users\\jayda\\miniconda3\\lib\\site-packages (from matplotlib) (11.1.0)\n",
      "Requirement already satisfied: pyparsing>=2.3.1 in c:\\users\\jayda\\miniconda3\\lib\\site-packages (from matplotlib) (3.2.3)\n",
      "Requirement already satisfied: python-dateutil>=2.7 in c:\\users\\jayda\\miniconda3\\lib\\site-packages (from matplotlib) (2.9.0.post0)\n",
      "Requirement already satisfied: cffi>=1.12.0 in c:\\users\\jayda\\miniconda3\\lib\\site-packages (from curl_cffi>=0.7->yfinance) (1.16.0)\n",
      "Requirement already satisfied: tzdata>=2022.7 in c:\\users\\jayda\\miniconda3\\lib\\site-packages (from pandas>=1.3.0->yfinance) (2025.1)\n",
      "Requirement already satisfied: six>=1.5 in c:\\users\\jayda\\miniconda3\\lib\\site-packages (from python-dateutil>=2.7->matplotlib) (1.17.0)\n",
      "Requirement already satisfied: pycparser in c:\\users\\jayda\\miniconda3\\lib\\site-packages (from cffi>=1.12.0->curl_cffi>=0.7->yfinance) (2.21)\n"
     ]
    }
   ],
   "execution_count": 16
  },
  {
   "metadata": {},
   "cell_type": "markdown",
   "source": "# Extracting Tesla Stock Data Using yfinance"
  },
  {
   "metadata": {
    "ExecuteTime": {
     "end_time": "2025-05-13T11:56:10.958543Z",
     "start_time": "2025-05-13T11:56:07.611682Z"
    }
   },
   "cell_type": "code",
   "source": [
    "import yfinance as yf\n",
    "import pandas as pd\n",
    "\n",
    "# Create Ticker Object for Tesla\n",
    "tesla = yf.Ticker(\"TSLA\")\n",
    "\n",
    "# Extract historical stock data\n",
    "try:\n",
    "    tesla_data = tesla.history(period=\"5y\")\n",
    "    tesla_data.reset_index(inplace=True)\n",
    "    print(\"Tesla stock data retrieved successfully.\")\n",
    "except Exception as e:\n",
    "    print(\"Error retrieving Tesla stock data:\", e)\n",
    "\n",
    "# Display first 5 rows\n",
    "tesla_data.head()\n"
   ],
   "outputs": [
    {
     "name": "stdout",
     "output_type": "stream",
     "text": [
      "Tesla stock data retrieved successfully.\n"
     ]
    },
    {
     "data": {
      "text/plain": [
       "                       Date       Open       High        Low      Close  \\\n",
       "0 2020-05-13 00:00:00-04:00  54.722000  55.066666  50.886665  52.730667   \n",
       "1 2020-05-14 00:00:00-04:00  52.000000  53.557335  50.933334  53.555332   \n",
       "2 2020-05-15 00:00:00-04:00  52.689999  53.669998  52.436668  53.278000   \n",
       "3 2020-05-18 00:00:00-04:00  55.185333  55.647999  53.591999  54.242001   \n",
       "4 2020-05-19 00:00:00-04:00  54.344666  54.804668  53.738667  53.867332   \n",
       "\n",
       "      Volume  Dividends  Stock Splits  \n",
       "0  285982500        0.0           0.0  \n",
       "1  205233000        0.0           0.0  \n",
       "2  157776000        0.0           0.0  \n",
       "3  174987000        0.0           0.0  \n",
       "4  144547500        0.0           0.0  "
      ],
      "text/html": [
       "<div>\n",
       "<style scoped>\n",
       "    .dataframe tbody tr th:only-of-type {\n",
       "        vertical-align: middle;\n",
       "    }\n",
       "\n",
       "    .dataframe tbody tr th {\n",
       "        vertical-align: top;\n",
       "    }\n",
       "\n",
       "    .dataframe thead th {\n",
       "        text-align: right;\n",
       "    }\n",
       "</style>\n",
       "<table border=\"1\" class=\"dataframe\">\n",
       "  <thead>\n",
       "    <tr style=\"text-align: right;\">\n",
       "      <th></th>\n",
       "      <th>Date</th>\n",
       "      <th>Open</th>\n",
       "      <th>High</th>\n",
       "      <th>Low</th>\n",
       "      <th>Close</th>\n",
       "      <th>Volume</th>\n",
       "      <th>Dividends</th>\n",
       "      <th>Stock Splits</th>\n",
       "    </tr>\n",
       "  </thead>\n",
       "  <tbody>\n",
       "    <tr>\n",
       "      <th>0</th>\n",
       "      <td>2020-05-13 00:00:00-04:00</td>\n",
       "      <td>54.722000</td>\n",
       "      <td>55.066666</td>\n",
       "      <td>50.886665</td>\n",
       "      <td>52.730667</td>\n",
       "      <td>285982500</td>\n",
       "      <td>0.0</td>\n",
       "      <td>0.0</td>\n",
       "    </tr>\n",
       "    <tr>\n",
       "      <th>1</th>\n",
       "      <td>2020-05-14 00:00:00-04:00</td>\n",
       "      <td>52.000000</td>\n",
       "      <td>53.557335</td>\n",
       "      <td>50.933334</td>\n",
       "      <td>53.555332</td>\n",
       "      <td>205233000</td>\n",
       "      <td>0.0</td>\n",
       "      <td>0.0</td>\n",
       "    </tr>\n",
       "    <tr>\n",
       "      <th>2</th>\n",
       "      <td>2020-05-15 00:00:00-04:00</td>\n",
       "      <td>52.689999</td>\n",
       "      <td>53.669998</td>\n",
       "      <td>52.436668</td>\n",
       "      <td>53.278000</td>\n",
       "      <td>157776000</td>\n",
       "      <td>0.0</td>\n",
       "      <td>0.0</td>\n",
       "    </tr>\n",
       "    <tr>\n",
       "      <th>3</th>\n",
       "      <td>2020-05-18 00:00:00-04:00</td>\n",
       "      <td>55.185333</td>\n",
       "      <td>55.647999</td>\n",
       "      <td>53.591999</td>\n",
       "      <td>54.242001</td>\n",
       "      <td>174987000</td>\n",
       "      <td>0.0</td>\n",
       "      <td>0.0</td>\n",
       "    </tr>\n",
       "    <tr>\n",
       "      <th>4</th>\n",
       "      <td>2020-05-19 00:00:00-04:00</td>\n",
       "      <td>54.344666</td>\n",
       "      <td>54.804668</td>\n",
       "      <td>53.738667</td>\n",
       "      <td>53.867332</td>\n",
       "      <td>144547500</td>\n",
       "      <td>0.0</td>\n",
       "      <td>0.0</td>\n",
       "    </tr>\n",
       "  </tbody>\n",
       "</table>\n",
       "</div>"
      ]
     },
     "execution_count": 17,
     "metadata": {},
     "output_type": "execute_result"
    }
   ],
   "execution_count": 17
  },
  {
   "metadata": {},
   "cell_type": "markdown",
   "source": "# Extracting Tesla Revenue Data Using Web Scraping"
  },
  {
   "metadata": {
    "ExecuteTime": {
     "end_time": "2025-05-13T12:10:29.479257Z",
     "start_time": "2025-05-13T12:10:29.348115Z"
    }
   },
   "cell_type": "code",
   "source": [
    "import requests\n",
    "from bs4 import BeautifulSoup\n",
    "import pandas as pd\n",
    "import re\n",
    "\n",
    "def get_tesla_revenue():\n",
    "    url = \"https://www.macrotrends.net/stocks/charts/TSLA/tesla/revenue\"\n",
    "    headers = {\n",
    "        \"User-Agent\": \"Mozilla/5.0 (Windows NT 10.0; Win64; x64) AppleWebKit/537.36 (KHTML, like Gecko) Chrome/120.0.0.0 Safari/537.36\"\n",
    "    }\n",
    "\n",
    "    response = requests.get(url, headers=headers)\n",
    "\n",
    "    if response.status_code != 200:\n",
    "        print(\"Failed to fetch the page. Status code:\", response.status_code)\n",
    "        return None\n",
    "\n",
    "    soup = BeautifulSoup(response.text, \"html.parser\")\n",
    "    tables = soup.find_all(\"table\")\n",
    "\n",
    "    for table in tables:\n",
    "        if \"Revenue\" in table.text and \"Tesla\" in table.text:\n",
    "            try:\n",
    "                df = pd.read_html(str(table))[0]\n",
    "                df.columns = [\"Date\", \"Revenue\"]\n",
    "                df[\"Revenue\"] = df[\"Revenue\"].str.replace(r\"\\$|,\", \"\", regex=True)\n",
    "                df = df.dropna()\n",
    "                df[\"Revenue\"] = pd.to_numeric(df[\"Revenue\"], errors=\"coerce\")\n",
    "                return df\n",
    "            except Exception as e:\n",
    "                print(\"Error parsing table:\", e)\n",
    "                return None\n",
    "\n",
    "    print(\"No matching revenue table found.\")\n",
    "    return None\n",
    "\n",
    "# Run the function\n",
    "tesla_revenue = get_tesla_revenue()\n",
    "\n",
    "# Safely display results\n",
    "if tesla_revenue is not None:\n",
    "    display(tesla_revenue.head())\n",
    "else:\n",
    "    print(\"No Tesla revenue data found.\")\n"
   ],
   "outputs": [
    {
     "name": "stderr",
     "output_type": "stream",
     "text": [
      "C:\\Users\\Jayda\\AppData\\Local\\Temp\\ipykernel_9836\\2227414592.py:24: FutureWarning: Passing literal html to 'read_html' is deprecated and will be removed in a future version. To read from a literal string, wrap it in a 'StringIO' object.\n",
      "  df = pd.read_html(str(table))[0]\n"
     ]
    },
    {
     "data": {
      "text/plain": [
       "   Date  Revenue\n",
       "0  2024    97690\n",
       "1  2023    96773\n",
       "2  2022    81462\n",
       "3  2021    53823\n",
       "4  2020    31536"
      ],
      "text/html": [
       "<div>\n",
       "<style scoped>\n",
       "    .dataframe tbody tr th:only-of-type {\n",
       "        vertical-align: middle;\n",
       "    }\n",
       "\n",
       "    .dataframe tbody tr th {\n",
       "        vertical-align: top;\n",
       "    }\n",
       "\n",
       "    .dataframe thead th {\n",
       "        text-align: right;\n",
       "    }\n",
       "</style>\n",
       "<table border=\"1\" class=\"dataframe\">\n",
       "  <thead>\n",
       "    <tr style=\"text-align: right;\">\n",
       "      <th></th>\n",
       "      <th>Date</th>\n",
       "      <th>Revenue</th>\n",
       "    </tr>\n",
       "  </thead>\n",
       "  <tbody>\n",
       "    <tr>\n",
       "      <th>0</th>\n",
       "      <td>2024</td>\n",
       "      <td>97690</td>\n",
       "    </tr>\n",
       "    <tr>\n",
       "      <th>1</th>\n",
       "      <td>2023</td>\n",
       "      <td>96773</td>\n",
       "    </tr>\n",
       "    <tr>\n",
       "      <th>2</th>\n",
       "      <td>2022</td>\n",
       "      <td>81462</td>\n",
       "    </tr>\n",
       "    <tr>\n",
       "      <th>3</th>\n",
       "      <td>2021</td>\n",
       "      <td>53823</td>\n",
       "    </tr>\n",
       "    <tr>\n",
       "      <th>4</th>\n",
       "      <td>2020</td>\n",
       "      <td>31536</td>\n",
       "    </tr>\n",
       "  </tbody>\n",
       "</table>\n",
       "</div>"
      ]
     },
     "metadata": {},
     "output_type": "display_data"
    }
   ],
   "execution_count": 25
  },
  {
   "metadata": {},
   "cell_type": "markdown",
   "source": "# Extracting GameStop Stock Data Using yfinance"
  },
  {
   "metadata": {
    "ExecuteTime": {
     "end_time": "2025-05-13T12:11:39.839913Z",
     "start_time": "2025-05-13T12:11:39.471745Z"
    }
   },
   "cell_type": "code",
   "source": [
    "# Create Ticker Object for GameStop\n",
    "gamestop = yf.Ticker(\"GME\")\n",
    "\n",
    "# Extract historical stock data\n",
    "try:\n",
    "    gamestop_data = gamestop.history(period=\"5y\")\n",
    "    gamestop_data.reset_index(inplace=True)\n",
    "    print(\"GameStop stock data retrieved successfully.\")\n",
    "except Exception as e:\n",
    "    print(\"Error retrieving GameStop stock data:\", e)\n",
    "\n",
    "# Display first 5 rows\n",
    "gamestop_data.head()\n"
   ],
   "outputs": [
    {
     "name": "stdout",
     "output_type": "stream",
     "text": [
      "GameStop stock data retrieved successfully.\n"
     ]
    },
    {
     "data": {
      "text/plain": [
       "                       Date    Open    High     Low   Close    Volume  \\\n",
       "0 2020-05-13 00:00:00-04:00  1.1350  1.1350  1.0175  1.0525  11531600   \n",
       "1 2020-05-14 00:00:00-04:00  1.0375  1.0475  0.9900  1.0325   8019600   \n",
       "2 2020-05-15 00:00:00-04:00  1.0125  1.1125  1.0100  1.0550   7762400   \n",
       "3 2020-05-18 00:00:00-04:00  1.1000  1.1575  1.0900  1.1450   9456800   \n",
       "4 2020-05-19 00:00:00-04:00  1.1450  1.1875  1.0925  1.1100   7362800   \n",
       "\n",
       "   Dividends  Stock Splits  \n",
       "0        0.0           0.0  \n",
       "1        0.0           0.0  \n",
       "2        0.0           0.0  \n",
       "3        0.0           0.0  \n",
       "4        0.0           0.0  "
      ],
      "text/html": [
       "<div>\n",
       "<style scoped>\n",
       "    .dataframe tbody tr th:only-of-type {\n",
       "        vertical-align: middle;\n",
       "    }\n",
       "\n",
       "    .dataframe tbody tr th {\n",
       "        vertical-align: top;\n",
       "    }\n",
       "\n",
       "    .dataframe thead th {\n",
       "        text-align: right;\n",
       "    }\n",
       "</style>\n",
       "<table border=\"1\" class=\"dataframe\">\n",
       "  <thead>\n",
       "    <tr style=\"text-align: right;\">\n",
       "      <th></th>\n",
       "      <th>Date</th>\n",
       "      <th>Open</th>\n",
       "      <th>High</th>\n",
       "      <th>Low</th>\n",
       "      <th>Close</th>\n",
       "      <th>Volume</th>\n",
       "      <th>Dividends</th>\n",
       "      <th>Stock Splits</th>\n",
       "    </tr>\n",
       "  </thead>\n",
       "  <tbody>\n",
       "    <tr>\n",
       "      <th>0</th>\n",
       "      <td>2020-05-13 00:00:00-04:00</td>\n",
       "      <td>1.1350</td>\n",
       "      <td>1.1350</td>\n",
       "      <td>1.0175</td>\n",
       "      <td>1.0525</td>\n",
       "      <td>11531600</td>\n",
       "      <td>0.0</td>\n",
       "      <td>0.0</td>\n",
       "    </tr>\n",
       "    <tr>\n",
       "      <th>1</th>\n",
       "      <td>2020-05-14 00:00:00-04:00</td>\n",
       "      <td>1.0375</td>\n",
       "      <td>1.0475</td>\n",
       "      <td>0.9900</td>\n",
       "      <td>1.0325</td>\n",
       "      <td>8019600</td>\n",
       "      <td>0.0</td>\n",
       "      <td>0.0</td>\n",
       "    </tr>\n",
       "    <tr>\n",
       "      <th>2</th>\n",
       "      <td>2020-05-15 00:00:00-04:00</td>\n",
       "      <td>1.0125</td>\n",
       "      <td>1.1125</td>\n",
       "      <td>1.0100</td>\n",
       "      <td>1.0550</td>\n",
       "      <td>7762400</td>\n",
       "      <td>0.0</td>\n",
       "      <td>0.0</td>\n",
       "    </tr>\n",
       "    <tr>\n",
       "      <th>3</th>\n",
       "      <td>2020-05-18 00:00:00-04:00</td>\n",
       "      <td>1.1000</td>\n",
       "      <td>1.1575</td>\n",
       "      <td>1.0900</td>\n",
       "      <td>1.1450</td>\n",
       "      <td>9456800</td>\n",
       "      <td>0.0</td>\n",
       "      <td>0.0</td>\n",
       "    </tr>\n",
       "    <tr>\n",
       "      <th>4</th>\n",
       "      <td>2020-05-19 00:00:00-04:00</td>\n",
       "      <td>1.1450</td>\n",
       "      <td>1.1875</td>\n",
       "      <td>1.0925</td>\n",
       "      <td>1.1100</td>\n",
       "      <td>7362800</td>\n",
       "      <td>0.0</td>\n",
       "      <td>0.0</td>\n",
       "    </tr>\n",
       "  </tbody>\n",
       "</table>\n",
       "</div>"
      ]
     },
     "execution_count": 26,
     "metadata": {},
     "output_type": "execute_result"
    }
   ],
   "execution_count": 26
  },
  {
   "metadata": {},
   "cell_type": "markdown",
   "source": "# Extracting GameStop Revenue Data Using Web Scraping"
  },
  {
   "metadata": {
    "ExecuteTime": {
     "end_time": "2025-05-13T12:14:41.961622Z",
     "start_time": "2025-05-13T12:14:40.605746Z"
    }
   },
   "cell_type": "code",
   "source": [
    "import requests\n",
    "from bs4 import BeautifulSoup\n",
    "import pandas as pd\n",
    "import re\n",
    "\n",
    "def get_gamestop_revenue():\n",
    "    url = \"https://www.macrotrends.net/stocks/charts/GME/gamestop/revenue\"\n",
    "    headers = {\n",
    "        \"User-Agent\": \"Mozilla/5.0 (Windows NT 10.0; Win64; x64) AppleWebKit/537.36 (KHTML, like Gecko) Chrome/120.0.0.0 Safari/537.36\"\n",
    "    }\n",
    "\n",
    "    response = requests.get(url, headers=headers)\n",
    "\n",
    "    if response.status_code != 200:\n",
    "        print(\"Failed to fetch the page. Status code:\", response.status_code)\n",
    "        return None\n",
    "\n",
    "    soup = BeautifulSoup(response.text, \"html.parser\")\n",
    "    tables = soup.find_all(\"table\")\n",
    "\n",
    "    for table in tables:\n",
    "        if \"Revenue\" in table.text and \"GameStop\" in table.text:\n",
    "            try:\n",
    "                df = pd.read_html(str(table))[0]\n",
    "                df.columns = [\"Date\", \"Revenue\"]\n",
    "                df[\"Revenue\"] = df[\"Revenue\"].str.replace(r\"\\$|,\", \"\", regex=True)\n",
    "                df = df.dropna()\n",
    "                df[\"Revenue\"] = pd.to_numeric(df[\"Revenue\"], errors=\"coerce\")\n",
    "                return df\n",
    "            except Exception as e:\n",
    "                print(\"Error parsing GameStop table:\", e)\n",
    "                return None\n",
    "\n",
    "    print(\"No matching revenue table found.\")\n",
    "    return None\n",
    "\n",
    "# Run the function\n",
    "gamestop_revenue = get_gamestop_revenue()\n",
    "\n",
    "# Display data only if available\n",
    "if gamestop_revenue is not None:\n",
    "    display(gamestop_revenue.head())\n",
    "else:\n",
    "    print(\"No GameStop revenue data found.\")\n"
   ],
   "outputs": [
    {
     "name": "stderr",
     "output_type": "stream",
     "text": [
      "C:\\Users\\Jayda\\AppData\\Local\\Temp\\ipykernel_9836\\1173391497.py:24: FutureWarning: Passing literal html to 'read_html' is deprecated and will be removed in a future version. To read from a literal string, wrap it in a 'StringIO' object.\n",
      "  df = pd.read_html(str(table))[0]\n"
     ]
    },
    {
     "data": {
      "text/plain": [
       "   Date  Revenue\n",
       "0  2025     3823\n",
       "1  2024     5273\n",
       "2  2023     5927\n",
       "3  2022     6011\n",
       "4  2021     5090"
      ],
      "text/html": [
       "<div>\n",
       "<style scoped>\n",
       "    .dataframe tbody tr th:only-of-type {\n",
       "        vertical-align: middle;\n",
       "    }\n",
       "\n",
       "    .dataframe tbody tr th {\n",
       "        vertical-align: top;\n",
       "    }\n",
       "\n",
       "    .dataframe thead th {\n",
       "        text-align: right;\n",
       "    }\n",
       "</style>\n",
       "<table border=\"1\" class=\"dataframe\">\n",
       "  <thead>\n",
       "    <tr style=\"text-align: right;\">\n",
       "      <th></th>\n",
       "      <th>Date</th>\n",
       "      <th>Revenue</th>\n",
       "    </tr>\n",
       "  </thead>\n",
       "  <tbody>\n",
       "    <tr>\n",
       "      <th>0</th>\n",
       "      <td>2025</td>\n",
       "      <td>3823</td>\n",
       "    </tr>\n",
       "    <tr>\n",
       "      <th>1</th>\n",
       "      <td>2024</td>\n",
       "      <td>5273</td>\n",
       "    </tr>\n",
       "    <tr>\n",
       "      <th>2</th>\n",
       "      <td>2023</td>\n",
       "      <td>5927</td>\n",
       "    </tr>\n",
       "    <tr>\n",
       "      <th>3</th>\n",
       "      <td>2022</td>\n",
       "      <td>6011</td>\n",
       "    </tr>\n",
       "    <tr>\n",
       "      <th>4</th>\n",
       "      <td>2021</td>\n",
       "      <td>5090</td>\n",
       "    </tr>\n",
       "  </tbody>\n",
       "</table>\n",
       "</div>"
      ]
     },
     "metadata": {},
     "output_type": "display_data"
    }
   ],
   "execution_count": 28
  },
  {
   "metadata": {},
   "cell_type": "markdown",
   "source": "# Tesla Stock and Revenue Dashboard"
  },
  {
   "metadata": {
    "ExecuteTime": {
     "end_time": "2025-05-13T12:16:51.962498Z",
     "start_time": "2025-05-13T12:16:51.248059Z"
    }
   },
   "cell_type": "code",
   "source": [
    "import matplotlib.pyplot as plt\n",
    "\n",
    "# Plot Tesla stock and revenue\n",
    "fig, ax1 = plt.subplots(figsize=(12, 6))\n",
    "\n",
    "color = 'tab:blue'\n",
    "ax1.set_xlabel('Date')\n",
    "ax1.set_ylabel('Stock Price (Close)', color=color)\n",
    "ax1.plot(tesla_data['Date'], tesla_data['Close'], color=color, label='Stock Price')\n",
    "ax1.tick_params(axis='y', labelcolor=color)\n",
    "plt.title('Tesla Stock Price and Revenue')\n",
    "\n",
    "# Create secondary y-axis\n",
    "ax2 = ax1.twinx()\n",
    "color = 'tab:red'\n",
    "ax2.set_ylabel('Revenue (in millions)', color=color)\n",
    "ax2.plot(pd.to_datetime(tesla_revenue['Date']), tesla_revenue['Revenue'], color=color, label='Revenue')\n",
    "ax2.tick_params(axis='y', labelcolor=color)\n",
    "\n",
    "fig.tight_layout()\n",
    "plt.show()\n"
   ],
   "outputs": [
    {
     "data": {
      "text/plain": [
       "<Figure size 1200x600 with 2 Axes>"
      ],
      "image/png": "[encoded data removed]"
     },
     "metadata": {},
     "output_type": "display_data"
    }
   ],
   "execution_count": 29
  },
  {
   "metadata": {},
   "cell_type": "markdown",
   "source": "# GameStop Stock and Revenue Dashboard"
  },
  {
   "metadata": {
    "ExecuteTime": {
     "end_time": "2025-05-13T12:17:30.030828Z",
     "start_time": "2025-05-13T12:17:29.883272Z"
    }
   },
   "cell_type": "code",
   "source": [
    "# Plot GameStop stock and revenue\n",
    "fig, ax1 = plt.subplots(figsize=(12, 6))\n",
    "\n",
    "color = 'tab:green'\n",
    "ax1.set_xlabel('Date')\n",
    "ax1.set_ylabel('Stock Price (Close)', color=color)\n",
    "ax1.plot(gamestop_data['Date'], gamestop_data['Close'], color=color, label='Stock Price')\n",
    "ax1.tick_params(axis='y', labelcolor=color)\n",
    "plt.title('GameStop Stock Price and Revenue')\n",
    "\n",
    "# Create secondary y-axis\n",
    "ax2 = ax1.twinx()\n",
    "color = 'tab:orange'\n",
    "ax2.set_ylabel('Revenue (in millions)', color=color)\n",
    "ax2.plot(pd.to_datetime(gamestop_revenue['Date']), gamestop_revenue['Revenue'], color=color, label='Revenue')\n",
    "ax2.tick_params(axis='y', labelcolor=color)\n",
    "\n",
    "fig.tight_layout()\n",
    "plt.show()\n"
   ],
   "outputs": [
    {
     "data": {
      "text/plain": [
       "<Figure size 1200x600 with 2 Axes>"
      ],
      "image/png": "[encoded data removed]"
     },
     "metadata": {},
     "output_type": "display_data"
    }
   ],
   "execution_count": 30
  },
  {
   "metadata": {},
   "cell_type": "markdown",
   "source": ""
  },
  {
   "metadata": {},
   "cell_type": "code",
   "outputs": [],
   "execution_count": null,
   "source": ""
  }
 ],
 "metadata": {
  "kernelspec": {
   "display_name": "Python 3",
   "language": "python",
   "name": "python3"
  },
  "language_info": {
   "name": "python",
   "version": "3.8"
  }
 },
 "nbformat": 4,
 "nbformat_minor": 2
}
